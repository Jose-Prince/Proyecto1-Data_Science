{
 "cells": [
  {
   "cell_type": "markdown",
   "id": "50ed8061-9922-4e6f-b0d9-756b5e8ee4e8",
   "metadata": {},
   "source": [
    "# Proyecto 1 Data Science\n",
    "\n",
    "Para este proyecto se analizaran los datos de los establecimientos educativos de todo el país que lleguen hasta el nivel de diversificado.\n",
    "\n",
    "## Descripción de los datos"
   ]
  },
  {
   "cell_type": "code",
   "execution_count": 2,
   "id": "bc6e9ab5-30dc-4ddd-a8bb-4007e6d9a37e",
   "metadata": {},
   "outputs": [],
   "source": [
    "import pandas as pd\n",
    "\n",
    "df = pd.read_csv('institutions_data.csv')\n",
    "df.columns = df.iloc[0]\n",
    "df =df[1:] #Lo que se hace con esto es eliminar la primera fila que contiene los numeros de las columnas"
   ]
  },
  {
   "cell_type": "code",
   "execution_count": 3,
   "id": "2a1611c2-ae90-401d-9888-de12c7982d1e",
   "metadata": {},
   "outputs": [
    {
     "name": "stdout",
     "output_type": "stream",
     "text": [
      "Se tiene un total de: 7413, para el dataset que contiene todos los datos de los establecimientos crudos\n"
     ]
    }
   ],
   "source": [
    "num_rows = df.shape[0]\n",
    "print(f\"Se tiene un total de: {num_rows}, para el dataset que contiene todos los datos de los establecimientos crudos\")"
   ]
  },
  {
   "cell_type": "markdown",
   "id": "1644c93e-dc51-446a-bc9d-63691be67d4c",
   "metadata": {},
   "source": [
    "Para el dataset tenemos las siguientes variables: "
   ]
  },
  {
   "cell_type": "code",
   "execution_count": 4,
   "id": "1c2595ac-ceba-4fbc-9ab7-f65da9dc8efb",
   "metadata": {},
   "outputs": [
    {
     "name": "stdout",
     "output_type": "stream",
     "text": [
      "CODIGO\n",
      "DISTRITO\n",
      "DEPARTAMENTO\n",
      "MUNICIPIO\n",
      "ESTABLECIMIENTO\n",
      "DIRECCION\n",
      "TELEFONO\n",
      "SUPERVISOR\n",
      "DIRECTOR\n",
      "NIVEL\n",
      "SECTOR\n",
      "AREA\n",
      "STATUS\n",
      "MODALIDAD\n",
      "JORNADA\n",
      "PLAN\n",
      "DEPARTAMENTAL\n"
     ]
    }
   ],
   "source": [
    "for column in df.columns:\n",
    "    print(column)"
   ]
  },
  {
   "cell_type": "markdown",
   "id": "34b8268f-c405-4d40-833b-3115bedbb053",
   "metadata": {},
   "source": [
    "Para un total de 17 variables tenemos la siguiente clasificación:\n",
    "- Cualitativas:\n",
    "    - Codigo: Código único del establecimiento.\n",
    "    - Distrito: Código o nombre del distrito administrativo del Mineduc.\n",
    "    - Departamento: Nombre del departamento de Guatemala.\n",
    "    - Municipio: Nombre del municipio donde esta ubicado el centro educativo.\n",
    "    - Establecimiento: Nombre del establecimiento educativo.\n",
    "    - Dirección: Dirección física del establecimiento.\n",
    "    - Teléfono: Número telefónico del establecimiento.\n",
    "    - Supervisor: Nombre completo del supervisor asignado.\n",
    "    - Director: Nombre del director o directora del establecimiento.\n",
    "    - Nivel: nivel educativo ofrecido (diversificado, primaria, etc)\n",
    "    - Sector: Sector administrativo (oficial, privado, cooperativa, etc) \n",
    "    - Area: Área geográfica (rural, urbana)\n",
    "    - Status: Estado operativo (abierta, cerrada, etc)\n",
    "    - Modalidad: Modalidad educativa (monolingüe, bilingüe, etc)\n",
    "    - Jornada: Horario (matutino, vespertino, nocturno, etc)\n",
    "    - Plan: Tipo de plan educativo (Diario, Semipresencial, etc)\n",
    "    - Departamental: Nombre del departamento."
   ]
  },
  {
   "cell_type": "markdown",
   "id": "8fa2267b",
   "metadata": {},
   "source": [
    "Ver cuántas filas tienen valores nulos en las columnas clave"
   ]
  },
  {
   "cell_type": "code",
   "execution_count": 5,
   "id": "f196b4a5-3bf5-4d5f-9862-b11bb1bdd60e",
   "metadata": {},
   "outputs": [
    {
     "name": "stdout",
     "output_type": "stream",
     "text": [
      "Valores nulos por columna:\n",
      "0\n",
      "CODIGO             23\n",
      "DISTRITO           23\n",
      "DEPARTAMENTO       23\n",
      "MUNICIPIO          23\n",
      "ESTABLECIMIENTO    23\n",
      "DIRECCION          25\n",
      "TELEFONO           67\n",
      "SUPERVISOR         23\n",
      "DIRECTOR           52\n",
      "NIVEL              23\n",
      "SECTOR             23\n",
      "AREA               23\n",
      "STATUS             23\n",
      "MODALIDAD          23\n",
      "JORNADA            23\n",
      "PLAN               23\n",
      "DEPARTAMENTAL      23\n",
      "dtype: int64\n"
     ]
    }
   ],
   "source": [
    "print(\"Valores nulos por columna:\")\n",
    "print(df.isnull().sum())"
   ]
  },
  {
   "cell_type": "markdown",
   "id": "68cebaf0",
   "metadata": {},
   "source": [
    "Lo que nos da esto es como una señal que habran filas completamentes vacias con el numero en comun 23. Pero para verificar haremos el siguiente paso.. "
   ]
  },
  {
   "cell_type": "code",
   "execution_count": 6,
   "id": "0bc536b9",
   "metadata": {},
   "outputs": [
    {
     "name": "stdout",
     "output_type": "stream",
     "text": [
      "Filas completamente vacías: 23\n"
     ]
    }
   ],
   "source": [
    "# Filas completamente vacías\n",
    "print(f\"Filas completamente vacías: {(df.isnull().all(axis=1)).sum()}\")"
   ]
  },
  {
   "cell_type": "markdown",
   "id": "53d319cc",
   "metadata": {},
   "source": [
    "Nos confirma las sospechas de que se fueron 23 filas sin datos enteros.\n",
    "Ultima cosa que podriamos hacer para verificar datos importantes o incluso un paso antes es verificar que filas sin codigo o sin establecimiento existen ya que no importaria tener los siguientes datos si no tenemos estos. "
   ]
  },
  {
   "cell_type": "code",
   "execution_count": 8,
   "id": "459a815f-51d9-4de4-b935-237305ccf0a6",
   "metadata": {},
   "outputs": [
    {
     "name": "stdout",
     "output_type": "stream",
     "text": [
      "Filas sin CODIGO o sin ESTABLECIMIENTO: 23\n"
     ]
    }
   ],
   "source": [
    "# Filas sin código o sin establecimiento\n",
    "incompletas = df[df['CODIGO'].isnull() | df['ESTABLECIMIENTO'].isnull()]\n",
    "print(f\"Filas sin CODIGO o sin ESTABLECIMIENTO: {incompletas.shape[0]}\")"
   ]
  },
  {
   "cell_type": "markdown",
   "id": "1fc7ac4f",
   "metadata": {},
   "source": [
    "Bueno luego de ver esto ya podemos empezar con la elimacion.. "
   ]
  },
  {
   "cell_type": "code",
   "execution_count": 10,
   "id": "fbc7f53d",
   "metadata": {},
   "outputs": [],
   "source": [
    "\n",
    "# Eliminar filas completamente vacías\n",
    "df = df.dropna(how='all')"
   ]
  },
  {
   "cell_type": "code",
   "execution_count": 11,
   "id": "2c4b6895",
   "metadata": {},
   "outputs": [],
   "source": [
    "\n",
    "# Eliminar filas sin código o sin establecimiento\n",
    "df = df.dropna(subset=['CODIGO', 'ESTABLECIMIENTO'])"
   ]
  },
  {
   "cell_type": "markdown",
   "id": "851cddd8",
   "metadata": {},
   "source": [
    "Ahora reiniciamos los indices despues de la eliminacion de los datos. "
   ]
  },
  {
   "cell_type": "code",
   "execution_count": 14,
   "id": "f5472c39",
   "metadata": {},
   "outputs": [
    {
     "name": "stdout",
     "output_type": "stream",
     "text": [
      "Después de limpiar, el dataset tiene 7390 filas. Comparadas con las 7413 filas originales, se eliminaron 23 filas.\n"
     ]
    },
    {
     "data": {
      "text/html": [
       "<div>\n",
       "<style scoped>\n",
       "    .dataframe tbody tr th:only-of-type {\n",
       "        vertical-align: middle;\n",
       "    }\n",
       "\n",
       "    .dataframe tbody tr th {\n",
       "        vertical-align: top;\n",
       "    }\n",
       "\n",
       "    .dataframe thead th {\n",
       "        text-align: right;\n",
       "    }\n",
       "</style>\n",
       "<table border=\"1\" class=\"dataframe\">\n",
       "  <thead>\n",
       "    <tr style=\"text-align: right;\">\n",
       "      <th></th>\n",
       "      <th>CODIGO</th>\n",
       "      <th>DISTRITO</th>\n",
       "      <th>DEPARTAMENTO</th>\n",
       "      <th>MUNICIPIO</th>\n",
       "      <th>ESTABLECIMIENTO</th>\n",
       "      <th>DIRECCION</th>\n",
       "      <th>TELEFONO</th>\n",
       "      <th>SUPERVISOR</th>\n",
       "      <th>DIRECTOR</th>\n",
       "      <th>NIVEL</th>\n",
       "      <th>SECTOR</th>\n",
       "      <th>AREA</th>\n",
       "      <th>STATUS</th>\n",
       "      <th>MODALIDAD</th>\n",
       "      <th>JORNADA</th>\n",
       "      <th>PLAN</th>\n",
       "      <th>DEPARTAMENTAL</th>\n",
       "    </tr>\n",
       "  </thead>\n",
       "  <tbody>\n",
       "    <tr>\n",
       "      <th>0</th>\n",
       "      <td>16-01-0138-46</td>\n",
       "      <td>16-031</td>\n",
       "      <td>ALTA VERAPAZ</td>\n",
       "      <td>COBAN</td>\n",
       "      <td>COLEGIO COBAN</td>\n",
       "      <td>KM.2 SALIDA A SAN JUAN CHAMELCO ZONA 8</td>\n",
       "      <td>77945104</td>\n",
       "      <td>PATRICIO NAJARRO ASENCIO</td>\n",
       "      <td>GUSTAVO ADOLFO SIERRA POP</td>\n",
       "      <td>DIVERSIFICADO</td>\n",
       "      <td>PRIVADO</td>\n",
       "      <td>URBANA</td>\n",
       "      <td>ABIERTA</td>\n",
       "      <td>MONOLINGUE</td>\n",
       "      <td>MATUTINA</td>\n",
       "      <td>DIARIO(REGULAR)</td>\n",
       "      <td>ALTA VERAPAZ</td>\n",
       "    </tr>\n",
       "    <tr>\n",
       "      <th>1</th>\n",
       "      <td>16-01-0139-46</td>\n",
       "      <td>16-031</td>\n",
       "      <td>ALTA VERAPAZ</td>\n",
       "      <td>COBAN</td>\n",
       "      <td>COLEGIO PARTICULAR MIXTO VERAPAZ</td>\n",
       "      <td>KM 209.5 ENTRADA A LA CIUDAD</td>\n",
       "      <td>77367402</td>\n",
       "      <td>PATRICIO NAJARRO ASENCIO</td>\n",
       "      <td>GILMA DOLORES GUAY PAZ DE LEAL</td>\n",
       "      <td>DIVERSIFICADO</td>\n",
       "      <td>PRIVADO</td>\n",
       "      <td>URBANA</td>\n",
       "      <td>ABIERTA</td>\n",
       "      <td>MONOLINGUE</td>\n",
       "      <td>MATUTINA</td>\n",
       "      <td>DIARIO(REGULAR)</td>\n",
       "      <td>ALTA VERAPAZ</td>\n",
       "    </tr>\n",
       "    <tr>\n",
       "      <th>2</th>\n",
       "      <td>16-01-0140-46</td>\n",
       "      <td>16-031</td>\n",
       "      <td>ALTA VERAPAZ</td>\n",
       "      <td>COBAN</td>\n",
       "      <td>COLEGIO \"LA INMACULADA\"</td>\n",
       "      <td>7A. AVENIDA 11-109 ZONA 6</td>\n",
       "      <td>78232301</td>\n",
       "      <td>PATRICIO NAJARRO ASENCIO</td>\n",
       "      <td>VIRGINIA SOLANO SERRANO</td>\n",
       "      <td>DIVERSIFICADO</td>\n",
       "      <td>PRIVADO</td>\n",
       "      <td>URBANA</td>\n",
       "      <td>ABIERTA</td>\n",
       "      <td>MONOLINGUE</td>\n",
       "      <td>MATUTINA</td>\n",
       "      <td>DIARIO(REGULAR)</td>\n",
       "      <td>ALTA VERAPAZ</td>\n",
       "    </tr>\n",
       "    <tr>\n",
       "      <th>3</th>\n",
       "      <td>16-01-0141-46</td>\n",
       "      <td>16-005</td>\n",
       "      <td>ALTA VERAPAZ</td>\n",
       "      <td>COBAN</td>\n",
       "      <td>ESCUELA NACIONAL DE CIENCIAS COMERCIALES</td>\n",
       "      <td>2A CALLE 11-10 ZONA 2</td>\n",
       "      <td>79514215</td>\n",
       "      <td>NORA LILIANA FIGUEROA HERNÁNDEZ</td>\n",
       "      <td>HÉCTOR ROLANDO CHUN POOU</td>\n",
       "      <td>DIVERSIFICADO</td>\n",
       "      <td>OFICIAL</td>\n",
       "      <td>URBANA</td>\n",
       "      <td>ABIERTA</td>\n",
       "      <td>MONOLINGUE</td>\n",
       "      <td>MATUTINA</td>\n",
       "      <td>DIARIO(REGULAR)</td>\n",
       "      <td>ALTA VERAPAZ</td>\n",
       "    </tr>\n",
       "    <tr>\n",
       "      <th>4</th>\n",
       "      <td>16-01-0142-46</td>\n",
       "      <td>16-005</td>\n",
       "      <td>ALTA VERAPAZ</td>\n",
       "      <td>COBAN</td>\n",
       "      <td>INSTITUTO NORMAL MIXTO DEL NORTE 'EMILIO ROSAL...</td>\n",
       "      <td>3A AVE 6-23 ZONA 11</td>\n",
       "      <td>79521468</td>\n",
       "      <td>NORA LILIANA FIGUEROA HERNÁNDEZ</td>\n",
       "      <td>VICTOR HUGO DOMÍNGUEZ REYES</td>\n",
       "      <td>DIVERSIFICADO</td>\n",
       "      <td>OFICIAL</td>\n",
       "      <td>URBANA</td>\n",
       "      <td>ABIERTA</td>\n",
       "      <td>BILINGUE</td>\n",
       "      <td>VESPERTINA</td>\n",
       "      <td>DIARIO(REGULAR)</td>\n",
       "      <td>ALTA VERAPAZ</td>\n",
       "    </tr>\n",
       "  </tbody>\n",
       "</table>\n",
       "</div>"
      ],
      "text/plain": [
       "0         CODIGO DISTRITO  DEPARTAMENTO MUNICIPIO  \\\n",
       "0  16-01-0138-46   16-031  ALTA VERAPAZ     COBAN   \n",
       "1  16-01-0139-46   16-031  ALTA VERAPAZ     COBAN   \n",
       "2  16-01-0140-46   16-031  ALTA VERAPAZ     COBAN   \n",
       "3  16-01-0141-46   16-005  ALTA VERAPAZ     COBAN   \n",
       "4  16-01-0142-46   16-005  ALTA VERAPAZ     COBAN   \n",
       "\n",
       "0                                    ESTABLECIMIENTO  \\\n",
       "0                                      COLEGIO COBAN   \n",
       "1                   COLEGIO PARTICULAR MIXTO VERAPAZ   \n",
       "2                            COLEGIO \"LA INMACULADA\"   \n",
       "3           ESCUELA NACIONAL DE CIENCIAS COMERCIALES   \n",
       "4  INSTITUTO NORMAL MIXTO DEL NORTE 'EMILIO ROSAL...   \n",
       "\n",
       "0                               DIRECCION  TELEFONO  \\\n",
       "0  KM.2 SALIDA A SAN JUAN CHAMELCO ZONA 8  77945104   \n",
       "1            KM 209.5 ENTRADA A LA CIUDAD  77367402   \n",
       "2               7A. AVENIDA 11-109 ZONA 6  78232301   \n",
       "3                   2A CALLE 11-10 ZONA 2  79514215   \n",
       "4                     3A AVE 6-23 ZONA 11  79521468   \n",
       "\n",
       "0                       SUPERVISOR                        DIRECTOR  \\\n",
       "0         PATRICIO NAJARRO ASENCIO       GUSTAVO ADOLFO SIERRA POP   \n",
       "1         PATRICIO NAJARRO ASENCIO  GILMA DOLORES GUAY PAZ DE LEAL   \n",
       "2         PATRICIO NAJARRO ASENCIO         VIRGINIA SOLANO SERRANO   \n",
       "3  NORA LILIANA FIGUEROA HERNÁNDEZ        HÉCTOR ROLANDO CHUN POOU   \n",
       "4  NORA LILIANA FIGUEROA HERNÁNDEZ     VICTOR HUGO DOMÍNGUEZ REYES   \n",
       "\n",
       "0          NIVEL   SECTOR    AREA   STATUS   MODALIDAD     JORNADA  \\\n",
       "0  DIVERSIFICADO  PRIVADO  URBANA  ABIERTA  MONOLINGUE    MATUTINA   \n",
       "1  DIVERSIFICADO  PRIVADO  URBANA  ABIERTA  MONOLINGUE    MATUTINA   \n",
       "2  DIVERSIFICADO  PRIVADO  URBANA  ABIERTA  MONOLINGUE    MATUTINA   \n",
       "3  DIVERSIFICADO  OFICIAL  URBANA  ABIERTA  MONOLINGUE    MATUTINA   \n",
       "4  DIVERSIFICADO  OFICIAL  URBANA  ABIERTA    BILINGUE  VESPERTINA   \n",
       "\n",
       "0             PLAN DEPARTAMENTAL  \n",
       "0  DIARIO(REGULAR)  ALTA VERAPAZ  \n",
       "1  DIARIO(REGULAR)  ALTA VERAPAZ  \n",
       "2  DIARIO(REGULAR)  ALTA VERAPAZ  \n",
       "3  DIARIO(REGULAR)  ALTA VERAPAZ  \n",
       "4  DIARIO(REGULAR)  ALTA VERAPAZ  "
      ]
     },
     "execution_count": 14,
     "metadata": {},
     "output_type": "execute_result"
    }
   ],
   "source": [
    "df = df.reset_index(drop=True)\n",
    "print(f\"Después de limpiar, el dataset tiene {df.shape[0]} filas. Comparadas con las {num_rows} filas originales, se eliminaron {num_rows - df.shape[0]} filas.\")\n",
    "df.head()"
   ]
  }
 ],
 "metadata": {
  "kernelspec": {
   "display_name": "Python 3",
   "language": "python",
   "name": "python3"
  },
  "language_info": {
   "codemirror_mode": {
    "name": "ipython",
    "version": 3
   },
   "file_extension": ".py",
   "mimetype": "text/x-python",
   "name": "python",
   "nbconvert_exporter": "python",
   "pygments_lexer": "ipython3",
   "version": "3.13.0"
  }
 },
 "nbformat": 4,
 "nbformat_minor": 5
}
