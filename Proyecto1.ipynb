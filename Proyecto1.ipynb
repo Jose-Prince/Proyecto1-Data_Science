{
 "cells": [
  {
   "cell_type": "markdown",
   "id": "50ed8061-9922-4e6f-b0d9-756b5e8ee4e8",
   "metadata": {},
   "source": [
    "# Proyecto 1 Data Science\n",
    "\n",
    "Para este proyecto se analizaran los datos de los establecimientos educativos de todo el país que lleguen hasta el nivel de diversificado.\n",
    "\n",
    "## Descripción de los datos"
   ]
  },
  {
   "cell_type": "code",
   "execution_count": 17,
   "id": "bc6e9ab5-30dc-4ddd-a8bb-4007e6d9a37e",
   "metadata": {},
   "outputs": [],
   "source": [
    "import pandas as pd\n",
    "\n",
    "df = pd.read_csv('institutions_data.csv')\n",
    "df.columns = df.iloc[0]\n",
    "df =df[1:]"
   ]
  },
  {
   "cell_type": "code",
   "execution_count": 13,
   "id": "2a1611c2-ae90-401d-9888-de12c7982d1e",
   "metadata": {},
   "outputs": [
    {
     "name": "stdout",
     "output_type": "stream",
     "text": [
      "Se tiene un total de: 7413, para el dataset que contiene todos los datos de los establecimientos crudos\n"
     ]
    }
   ],
   "source": [
    "num_rows = df.shape[0]\n",
    "print(f\"Se tiene un total de: {num_rows}, para el dataset que contiene todos los datos de los establecimientos crudos\")"
   ]
  },
  {
   "cell_type": "markdown",
   "id": "1644c93e-dc51-446a-bc9d-63691be67d4c",
   "metadata": {},
   "source": [
    "Para el dataset tenemos las siguientes variables: "
   ]
  },
  {
   "cell_type": "code",
   "execution_count": 14,
   "id": "1c2595ac-ceba-4fbc-9ab7-f65da9dc8efb",
   "metadata": {},
   "outputs": [
    {
     "name": "stdout",
     "output_type": "stream",
     "text": [
      "CODIGO\n",
      "DISTRITO\n",
      "DEPARTAMENTO\n",
      "MUNICIPIO\n",
      "ESTABLECIMIENTO\n",
      "DIRECCION\n",
      "TELEFONO\n",
      "SUPERVISOR\n",
      "DIRECTOR\n",
      "NIVEL\n",
      "SECTOR\n",
      "AREA\n",
      "STATUS\n",
      "MODALIDAD\n",
      "JORNADA\n",
      "PLAN\n",
      "DEPARTAMENTAL\n"
     ]
    }
   ],
   "source": [
    "for column in df.columns:\n",
    "    print(column)"
   ]
  },
  {
   "cell_type": "markdown",
   "id": "34b8268f-c405-4d40-833b-3115bedbb053",
   "metadata": {},
   "source": [
    "Para un total de 17 variables tenemos la siguiente clasificación:\n",
    "- Cualitativas:\n",
    "    - Codigo: Código único del establecimiento.\n",
    "    - Distrito: Código o nombre del distrito administrativo del Mineduc.\n",
    "    - Departamento: Nombre del departamento de Guatemala.\n",
    "    - Municipio: Nombre del municipio donde esta ubicado el centro educativo.\n",
    "    - Establecimiento: Nombre del establecimiento educativo.\n",
    "    - Dirección: Dirección física del establecimiento.\n",
    "    - Teléfono: Número telefónico del establecimiento.\n",
    "    - Supervisor: Nombre completo del supervisor asignado.\n",
    "    - Director: Nombre del director o directora del establecimiento.\n",
    "    - Nivel: nivel educativo ofrecido (diversificado, primaria, etc)\n",
    "    - Sector: Sector administrativo (oficial, privado, cooperativa, etc) \n",
    "    - Area: Área geográfica (rural, urbana)\n",
    "    - Status: Estado operativo (abierta, cerrada, etc)\n",
    "    - Modalidad: Modalidad educativa (monolingüe, bilingüe, etc)\n",
    "    - Jornada: Horario (matutino, vespertino, nocturno, etc)\n",
    "    - Plan: Tipo de plan educativo (Diario, Semipresencial, etc)\n",
    "    - Departamental: Nombre del departamento."
   ]
  },
  {
   "cell_type": "code",
   "execution_count": null,
   "id": "f196b4a5-3bf5-4d5f-9862-b11bb1bdd60e",
   "metadata": {},
   "outputs": [],
   "source": []
  },
  {
   "cell_type": "code",
   "execution_count": null,
   "id": "459a815f-51d9-4de4-b935-237305ccf0a6",
   "metadata": {},
   "outputs": [],
   "source": []
  }
 ],
 "metadata": {
  "kernelspec": {
   "display_name": "Python 3 (ipykernel)",
   "language": "python",
   "name": "python3"
  },
  "language_info": {
   "codemirror_mode": {
    "name": "ipython",
    "version": 3
   },
   "file_extension": ".py",
   "mimetype": "text/x-python",
   "name": "python",
   "nbconvert_exporter": "python",
   "pygments_lexer": "ipython3",
   "version": "3.12.2"
  }
 },
 "nbformat": 4,
 "nbformat_minor": 5
}
